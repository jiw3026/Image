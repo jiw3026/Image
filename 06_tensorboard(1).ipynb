{
  "nbformat": 4,
  "nbformat_minor": 0,
  "metadata": {
    "colab": {
      "provenance": []
    },
    "kernelspec": {
      "name": "python3",
      "display_name": "Python 3"
    },
    "language_info": {
      "name": "python"
    }
  },
  "cells": [
    {
      "cell_type": "markdown",
      "source": [
        "# Tensorboard : ML 시각화 툴\n",
        "- 손실 및 정확도와 같은 측정항목 추적 및 시각화\n",
        "- 모델 그래프(작업 및 레이어) 시각화\n",
        "- 시간의 경과에 따라 달라지는 가중치, 편향, 기타 텐서의 히스토그램 확인\n",
        "- 저차원 공간에 임베딩 투영\n",
        "- 이미지, 텍스트, 오디오 데이터 표시\n",
        "- TensorFlow 프로그램 프로파일링\n",
        "- 그 외 다양한 도구"
      ],
      "metadata": {
        "id": "UrRc5w2cM__t"
      }
    },
    {
      "cell_type": "code",
      "source": [
        "# Load the TensorBoard notebook extension\n",
        "%load_ext tensorboard"
      ],
      "metadata": {
        "id": "JgdIL-cJM_wG"
      },
      "execution_count": null,
      "outputs": []
    },
    {
      "cell_type": "code",
      "source": [
        "import tensorflow as tf\n",
        "import datetime"
      ],
      "metadata": {
        "id": "WiDYYV5JM_pS"
      },
      "execution_count": null,
      "outputs": []
    },
    {
      "cell_type": "code",
      "source": [
        "mnist = tf.keras.datasets.mnist\n",
        "\n",
        "(x_train, y_train),(x_test, y_test) = mnist.load_data()"
      ],
      "metadata": {
        "id": "je_O5qsKSVJx",
        "colab": {
          "base_uri": "https://localhost:8080/"
        },
        "outputId": "94ab128c-51cc-42ea-a6a3-d043bb296fde"
      },
      "execution_count": null,
      "outputs": [
        {
          "output_type": "stream",
          "name": "stdout",
          "text": [
            "Downloading data from https://storage.googleapis.com/tensorflow/tf-keras-datasets/mnist.npz\n",
            "11490434/11490434 [==============================] - 0s 0us/step\n"
          ]
        }
      ]
    },
    {
      "cell_type": "code",
      "source": [
        "# 단순한 모델 정의\n",
        "def create_model():\n",
        "    model = tf.keras.models.Sequential([\n",
        "            tf.keras.layers.Flatten(input_shape=(28, 28)),\n",
        "            tf.keras.layers.Dense(512, activation='relu'),\n",
        "            tf.keras.layers.Dropout(0.2),\n",
        "            tf.keras.layers.Dense(10)\n",
        "            ])\n",
        "\n",
        "    model.compile(optimizer='adam',\n",
        "                loss=tf.losses.SparseCategoricalCrossentropy(from_logits=True),\n",
        "                metrics=['accuracy'])\n",
        "\n",
        "    return model"
      ],
      "metadata": {
        "id": "bSP6tMdJM_WM"
      },
      "execution_count": null,
      "outputs": []
    },
    {
      "cell_type": "code",
      "source": [
        "model = create_model()\n",
        "\n",
        "model.summary()"
      ],
      "metadata": {
        "colab": {
          "base_uri": "https://localhost:8080/"
        },
        "id": "oo6v3hfjSw49",
        "outputId": "b4fe34ee-2f8b-41b3-afde-acef40e12d57"
      },
      "execution_count": null,
      "outputs": [
        {
          "output_type": "stream",
          "name": "stdout",
          "text": [
            "Model: \"sequential\"\n",
            "_________________________________________________________________\n",
            " Layer (type)                Output Shape              Param #   \n",
            "=================================================================\n",
            " flatten (Flatten)           (None, 784)               0         \n",
            "                                                                 \n",
            " dense (Dense)               (None, 512)               401920    \n",
            "                                                                 \n",
            " dropout (Dropout)           (None, 512)               0         \n",
            "                                                                 \n",
            " dense_1 (Dense)             (None, 10)                5130      \n",
            "                                                                 \n",
            "=================================================================\n",
            "Total params: 407,050\n",
            "Trainable params: 407,050\n",
            "Non-trainable params: 0\n",
            "_________________________________________________________________\n"
          ]
        }
      ]
    },
    {
      "cell_type": "code",
      "source": [
        "model_name = '_ver01'\n",
        "current_time = datetime.datetime.now().strftime(\"%Y%m%d\") # Y : 연도 / m : 월 / d : 일 / H : 시 / M : 분 / S : 초\n",
        "current_time"
      ],
      "metadata": {
        "id": "5bjD3mHGTEOA",
        "colab": {
          "base_uri": "https://localhost:8080/",
          "height": 35
        },
        "outputId": "4423cf3a-e47a-4126-995a-12640ccdb574"
      },
      "execution_count": null,
      "outputs": [
        {
          "output_type": "execute_result",
          "data": {
            "text/plain": [
              "'20230317'"
            ],
            "application/vnd.google.colaboratory.intrinsic+json": {
              "type": "string"
            }
          },
          "metadata": {},
          "execution_count": 6
        }
      ]
    },
    {
      "cell_type": "code",
      "source": [
        "log_dir = \"logs/fit/\" + current_time + model_name\n",
        "board = tf.keras.callbacks.TensorBoard(log_dir=log_dir, \n",
        "                                                      histogram_freq=1) # epoch마다 히스토그램 계산\n",
        "\n",
        "model.fit(x=x_train, \n",
        "          y=y_train, \n",
        "          epochs=5, \n",
        "          \n",
        "          callbacks=[board]) # 콜백 전달"
      ],
      "metadata": {
        "colab": {
          "base_uri": "https://localhost:8080/"
        },
        "id": "oPY3SktvM_KT",
        "outputId": "1aa62c3f-4888-446e-e42d-ad8474b01bbf"
      },
      "execution_count": null,
      "outputs": [
        {
          "output_type": "stream",
          "name": "stdout",
          "text": [
            "Epoch 1/5\n",
            "1875/1875 [==============================] - 17s 8ms/step - loss: 2.7987 - accuracy: 0.8757\n",
            "Epoch 2/5\n",
            "1875/1875 [==============================] - 17s 9ms/step - loss: 0.4413 - accuracy: 0.9055\n",
            "Epoch 3/5\n",
            "1875/1875 [==============================] - 15s 8ms/step - loss: 0.4372 - accuracy: 0.9053\n",
            "Epoch 4/5\n",
            "1875/1875 [==============================] - 15s 8ms/step - loss: 0.3929 - accuracy: 0.9122\n",
            "Epoch 5/5\n",
            "1875/1875 [==============================] - 15s 8ms/step - loss: 0.3665 - accuracy: 0.9216\n"
          ]
        },
        {
          "output_type": "execute_result",
          "data": {
            "text/plain": [
              "<keras.callbacks.History at 0x7f3208ff1fa0>"
            ]
          },
          "metadata": {},
          "execution_count": 7
        }
      ]
    },
    {
      "cell_type": "markdown",
      "source": [
        "#### SCALARS : accuracy & loss\n",
        "- show data download links : 이미지 다운로드 기능 활성화\n",
        "- smoothing : 본래 결과값을 조정하여 출력 (지수 이동 평균으로 계산한 값)\n",
        "- Horizontal Axis : 차트 축 설정\n",
        "- Runs : 저장된 결과값 중 시각화할 결과 선택"
      ],
      "metadata": {
        "id": "_Dlt_tyGXK2C"
      }
    }
  ]
}