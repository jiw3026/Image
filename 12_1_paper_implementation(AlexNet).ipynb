{
  "nbformat": 4,
  "nbformat_minor": 0,
  "metadata": {
    "colab": {
      "provenance": [],
      "machine_shape": "hm"
    },
    "kernelspec": {
      "name": "python3",
      "display_name": "Python 3"
    },
    "language_info": {
      "name": "python"
    },
    "accelerator": "GPU"
  },
  "cells": [
    {
      "cell_type": "code",
      "execution_count": null,
      "metadata": {
        "id": "8MrudMhbn4eZ"
      },
      "outputs": [],
      "source": [
        "import tensorflow as tf\n",
        "\n",
        "from tensorflow.keras import datasets, layers, models\n",
        "\n",
        "import matplotlib.pyplot as plt\n",
        "import numpy as np"
      ]
    },
    {
      "cell_type": "code",
      "source": [
        "(train_images, train_labels), (test_images, test_labels) = datasets.fashion_mnist.load_data()\n",
        "train_images.shape, train_labels.shape, test_images.shape, test_labels.shape"
      ],
      "metadata": {
        "colab": {
          "base_uri": "https://localhost:8080/"
        },
        "id": "zbiSJpf7oIOn",
        "outputId": "5dbeb3e2-8a61-4fc9-9148-83937b7cf0ee"
      },
      "execution_count": null,
      "outputs": [
        {
          "output_type": "stream",
          "name": "stdout",
          "text": [
            "Downloading data from https://storage.googleapis.com/tensorflow/tf-keras-datasets/train-labels-idx1-ubyte.gz\n",
            "32768/29515 [=================================] - 0s 0us/step\n",
            "40960/29515 [=========================================] - 0s 0us/step\n",
            "Downloading data from https://storage.googleapis.com/tensorflow/tf-keras-datasets/train-images-idx3-ubyte.gz\n",
            "26427392/26421880 [==============================] - 0s 0us/step\n",
            "26435584/26421880 [==============================] - 0s 0us/step\n",
            "Downloading data from https://storage.googleapis.com/tensorflow/tf-keras-datasets/t10k-labels-idx1-ubyte.gz\n",
            "16384/5148 [===============================================================================================] - 0s 0us/step\n",
            "Downloading data from https://storage.googleapis.com/tensorflow/tf-keras-datasets/t10k-images-idx3-ubyte.gz\n",
            "4423680/4422102 [==============================] - 0s 0us/step\n",
            "4431872/4422102 [==============================] - 0s 0us/step\n"
          ]
        },
        {
          "output_type": "execute_result",
          "data": {
            "text/plain": [
              "((60000, 28, 28), (60000,), (10000, 28, 28), (10000,))"
            ]
          },
          "metadata": {},
          "execution_count": 2
        }
      ]
    },
    {
      "cell_type": "code",
      "source": [
        "# 라벨 설정\n",
        "label_names = ['T-shirt/top', 'Trouser', 'Pullover', 'Dress', 'Coat',\n",
        "               'Sandal', 'Shirt', 'Sneaker', 'Bag', 'Ankle boot']"
      ],
      "metadata": {
        "id": "lkWAYp7poLpp"
      },
      "execution_count": null,
      "outputs": []
    },
    {
      "cell_type": "code",
      "source": [
        "# 채널 값을 부여 : 28, 28 -> 28, 28, 1\n",
        "train_images = train_images.reshape(-1, 28, 28, 1)\n",
        "test_images = test_images.reshape(-1, 28, 28, 1)\n",
        "train_images.shape, test_images.shape"
      ],
      "metadata": {
        "colab": {
          "base_uri": "https://localhost:8080/"
        },
        "id": "Wr5nL0XDfVXH",
        "outputId": "9eea8483-adec-413d-c63c-5b0dc3b4699b"
      },
      "execution_count": null,
      "outputs": [
        {
          "output_type": "execute_result",
          "data": {
            "text/plain": [
              "((60000, 28, 28, 1), (10000, 28, 28, 1))"
            ]
          },
          "metadata": {},
          "execution_count": 4
        }
      ]
    },
    {
      "cell_type": "code",
      "source": [
        "# AlexNet 모델 입력층에 맞게 채널 3장으로 맞춤\n",
        "train_images = tf.repeat(train_images, 3, axis=3)\n",
        "test_images = tf.repeat(test_images, 3, axis=3)\n",
        "train_images.shape, test_images.shape"
      ],
      "metadata": {
        "colab": {
          "base_uri": "https://localhost:8080/"
        },
        "id": "OOXDhMDFiuXN",
        "outputId": "c9d206a6-4e7d-4a03-86ff-74c854703f4d"
      },
      "execution_count": null,
      "outputs": [
        {
          "output_type": "execute_result",
          "data": {
            "text/plain": [
              "(TensorShape([60000, 28, 28, 3]), TensorShape([10000, 28, 28, 3]))"
            ]
          },
          "metadata": {},
          "execution_count": 47
        }
      ]
    },
    {
      "cell_type": "code",
      "source": [
        "model = models.Sequential()\n",
        "\n",
        "# 227 x 227 x 3으로 resize\n",
        "model.add(layers.experimental.preprocessing.Resizing(227, 227, \n",
        "                                                     input_shape=train_images.shape[1:]))\n",
        "\n",
        "model.add(layers.Conv2D(96, (11, 11), strides=4, activation='relu')) # imagesize에 맞게 큰 filter에 큰 stride 적용\n",
        "model.add(layers.Lambda(tf.nn.local_response_normalization)) # ReLU 결과값 안정화\n",
        "model.add(layers.MaxPooling2D((3, 3), strides=2)) # Overlapping Pooling\n",
        "\n",
        "model.add(layers.Conv2D(256, (5, 5), strides=1, activation='relu', padding='same'))\n",
        "model.add(layers.Lambda(tf.nn.local_response_normalization))\n",
        "model.add(layers.MaxPooling2D((3, 3), strides=2))\n",
        "\n",
        "model.add(layers.Conv2D(384, (3, 3), strides=1, activation='relu', padding='same'))\n",
        "\n",
        "model.add(layers.Conv2D(384, (3, 3), strides=1, activation='relu', padding='same'))\n",
        "\n",
        "model.add(layers.Conv2D(256, (3, 3), strides=1, activation='relu', padding='same'))\n",
        "model.add(layers.MaxPooling2D((3, 3), strides=2))\n",
        "\n",
        "model.add(layers.Flatten())\n",
        "# model.add(layers.Dense(4096, activation='relu'))\n",
        "model.add(layers.Dense(256, activation='relu'))\n",
        "model.add(layers.Dropout(0.5))\n",
        "\n",
        "# model.add(layers.Dense(4096, activation='relu'))\n",
        "model.add(layers.Dense(256, activation='relu'))\n",
        "model.add(layers.Dropout(0.5))\n",
        "# model.add(layers.Dense(1000, activation='softmax'))\n",
        "model.add(layers.Dense(10, activation='softmax'))\n",
        "\n",
        "model.summary()"
      ],
      "metadata": {
        "colab": {
          "base_uri": "https://localhost:8080/"
        },
        "id": "imUubWGKq7fe",
        "outputId": "1d99e79e-e611-47e2-8280-99a545cc7761"
      },
      "execution_count": null,
      "outputs": [
        {
          "output_type": "stream",
          "name": "stdout",
          "text": [
            "Model: \"sequential_5\"\n",
            "_________________________________________________________________\n",
            " Layer (type)                Output Shape              Param #   \n",
            "=================================================================\n",
            " resizing_5 (Resizing)       (None, 227, 227, 1)       0         \n",
            "                                                                 \n",
            " conv2d_25 (Conv2D)          (None, 55, 55, 96)        11712     \n",
            "                                                                 \n",
            " lambda_10 (Lambda)          (None, 55, 55, 96)        0         \n",
            "                                                                 \n",
            " max_pooling2d_15 (MaxPoolin  (None, 27, 27, 96)       0         \n",
            " g2D)                                                            \n",
            "                                                                 \n",
            " conv2d_26 (Conv2D)          (None, 27, 27, 256)       614656    \n",
            "                                                                 \n",
            " lambda_11 (Lambda)          (None, 27, 27, 256)       0         \n",
            "                                                                 \n",
            " max_pooling2d_16 (MaxPoolin  (None, 13, 13, 256)      0         \n",
            " g2D)                                                            \n",
            "                                                                 \n",
            " conv2d_27 (Conv2D)          (None, 13, 13, 384)       885120    \n",
            "                                                                 \n",
            " conv2d_28 (Conv2D)          (None, 13, 13, 384)       1327488   \n",
            "                                                                 \n",
            " conv2d_29 (Conv2D)          (None, 13, 13, 256)       884992    \n",
            "                                                                 \n",
            " max_pooling2d_17 (MaxPoolin  (None, 6, 6, 256)        0         \n",
            " g2D)                                                            \n",
            "                                                                 \n",
            " flatten_5 (Flatten)         (None, 9216)              0         \n",
            "                                                                 \n",
            " dense_17 (Dense)            (None, 4096)              37752832  \n",
            "                                                                 \n",
            " dropout_2 (Dropout)         (None, 4096)              0         \n",
            "                                                                 \n",
            " dense_18 (Dense)            (None, 4096)              16781312  \n",
            "                                                                 \n",
            " dropout_3 (Dropout)         (None, 4096)              0         \n",
            "                                                                 \n",
            " dense_19 (Dense)            (None, 1000)              4097000   \n",
            "                                                                 \n",
            "=================================================================\n",
            "Total params: 62,355,112\n",
            "Trainable params: 62,355,112\n",
            "Non-trainable params: 0\n",
            "_________________________________________________________________\n"
          ]
        }
      ]
    },
    {
      "cell_type": "code",
      "source": [
        "model.compile(optimizer='adam', loss='sparse_categorical_crossentropy', metrics=['accuracy'])"
      ],
      "metadata": {
        "id": "3naNGPGorKtH"
      },
      "execution_count": null,
      "outputs": []
    },
    {
      "cell_type": "code",
      "source": [
        "model.fit(train_images, train_labels, batch_size=128, epochs=10, validation_split=0.2)"
      ],
      "metadata": {
        "colab": {
          "base_uri": "https://localhost:8080/"
        },
        "id": "xBTxdtSureZX",
        "outputId": "be391c72-0e86-447a-eb3f-f1f5fa6a6192"
      },
      "execution_count": null,
      "outputs": [
        {
          "output_type": "stream",
          "name": "stdout",
          "text": [
            "Epoch 1/10\n",
            "375/375 [==============================] - 65s 172ms/step - loss: 0.6119 - accuracy: 0.7692 - val_loss: 0.3519 - val_accuracy: 0.8693\n",
            "Epoch 2/10\n",
            "375/375 [==============================] - 64s 171ms/step - loss: 0.3393 - accuracy: 0.8754 - val_loss: 0.2968 - val_accuracy: 0.8898\n",
            "Epoch 3/10\n",
            "375/375 [==============================] - 64s 171ms/step - loss: 0.3040 - accuracy: 0.8868 - val_loss: 0.3028 - val_accuracy: 0.8838\n",
            "Epoch 4/10\n",
            "375/375 [==============================] - 64s 170ms/step - loss: 0.2665 - accuracy: 0.8997 - val_loss: 0.2628 - val_accuracy: 0.9049\n",
            "Epoch 5/10\n",
            "375/375 [==============================] - 64s 171ms/step - loss: 0.2451 - accuracy: 0.9086 - val_loss: 0.2703 - val_accuracy: 0.9013\n",
            "Epoch 6/10\n",
            "375/375 [==============================] - 64s 171ms/step - loss: 0.2312 - accuracy: 0.9135 - val_loss: 0.2781 - val_accuracy: 0.8977\n",
            "Epoch 7/10\n",
            "375/375 [==============================] - 64s 171ms/step - loss: 0.2225 - accuracy: 0.9165 - val_loss: 0.2621 - val_accuracy: 0.9041\n",
            "Epoch 8/10\n",
            "375/375 [==============================] - 64s 171ms/step - loss: 0.1989 - accuracy: 0.9259 - val_loss: 0.2563 - val_accuracy: 0.9086\n",
            "Epoch 9/10\n",
            "375/375 [==============================] - 64s 170ms/step - loss: 0.1887 - accuracy: 0.9294 - val_loss: 0.2530 - val_accuracy: 0.9081\n",
            "Epoch 10/10\n",
            "375/375 [==============================] - 64s 170ms/step - loss: 0.1752 - accuracy: 0.9346 - val_loss: 0.2522 - val_accuracy: 0.9125\n"
          ]
        },
        {
          "output_type": "execute_result",
          "data": {
            "text/plain": [
              "<keras.callbacks.History at 0x7f947c273650>"
            ]
          },
          "metadata": {},
          "execution_count": 67
        }
      ]
    },
    {
      "cell_type": "code",
      "source": [
        "model.evaluate(test_images, test_labels)"
      ],
      "metadata": {
        "colab": {
          "base_uri": "https://localhost:8080/"
        },
        "id": "njRpweqMlPi8",
        "outputId": "a3840ded-a08c-4274-b1ed-a19c6407ba9d"
      },
      "execution_count": null,
      "outputs": [
        {
          "output_type": "stream",
          "name": "stdout",
          "text": [
            "313/313 [==============================] - 5s 15ms/step - loss: 0.2764 - accuracy: 0.9050\n"
          ]
        },
        {
          "output_type": "execute_result",
          "data": {
            "text/plain": [
              "[0.2764274775981903, 0.9049999713897705]"
            ]
          },
          "metadata": {},
          "execution_count": 68
        }
      ]
    },
    {
      "cell_type": "code",
      "source": [
        "# AlexNet 모델을 간소화해봅시다 \n",
        "## resize없이 (28, 28, 3)으로 받아봅시다\n",
        "\n",
        "## ** activation 은 모두 relu로 유지\n",
        "## layer 1 : 32개, (3, 3), strides=1 / pooling은 (2, 2) overlapping x / normalizing 유지\n",
        "\n",
        "## layer 2 : 64개, (3, 3), strides=1 / pooling은 (2, 2) overlapping x / normalizing 유지\n",
        "\n",
        "## layer 3 : 128개, (3, 3), strides=1 / pooling은 (2, 2) overlapping x\n",
        "\n",
        "## layer 4, 5 : 삭제\n",
        "\n",
        "## fully connected layer 1, 2 : node 원하는대로 주기\n"
      ],
      "metadata": {
        "id": "tmSTegjzon0U"
      },
      "execution_count": null,
      "outputs": []
    }
  ]
}