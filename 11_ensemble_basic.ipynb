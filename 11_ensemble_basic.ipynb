{
  "nbformat": 4,
  "nbformat_minor": 0,
  "metadata": {
    "colab": {
      "provenance": []
    },
    "kernelspec": {
      "name": "python3",
      "display_name": "Python 3"
    },
    "language_info": {
      "name": "python"
    }
  },
  "cells": [
    {
      "cell_type": "code",
      "source": [
        "import tensorflow as tf"
      ],
      "metadata": {
        "id": "5hOTW-IkKNhQ"
      },
      "execution_count": null,
      "outputs": []
    },
    {
      "cell_type": "code",
      "source": [
        "from tensorflow.keras.applications.resnet50 import ResNet50"
      ],
      "metadata": {
        "id": "NLcF3isGKUFY"
      },
      "execution_count": null,
      "outputs": []
    },
    {
      "cell_type": "code",
      "execution_count": null,
      "metadata": {
        "id": "JoeuUTFD39Uv"
      },
      "outputs": [],
      "source": [
        "from tensorflow.keras import datasets, layers, models\n",
        "\n",
        "from tensorflow.keras.layers import Dense, Flatten, MaxPooling2D\n",
        "from tensorflow.keras import Input\n",
        "from tensorflow.keras.layers import Dropout, BatchNormalization\n",
        "\n",
        "import matplotlib.pyplot as plt"
      ]
    },
    {
      "cell_type": "code",
      "execution_count": null,
      "metadata": {
        "id": "AutEd-Qh6gij",
        "colab": {
          "base_uri": "https://localhost:8080/"
        },
        "outputId": "88a701e9-838e-4ef5-816f-efc8159073c5"
      },
      "outputs": [
        {
          "output_type": "stream",
          "name": "stdout",
          "text": [
            "Downloading data from https://www.cs.toronto.edu/~kriz/cifar-10-python.tar.gz\n",
            "170498071/170498071 [==============================] - 6s 0us/step\n"
          ]
        }
      ],
      "source": [
        "# 케라스 데이터셋을 다운받아 변수에 각각 넣어준다.\n",
        "(train_images, train_labels), (test_images, test_labels) = datasets.cifar10.load_data()"
      ]
    },
    {
      "cell_type": "code",
      "source": [
        "train_images.shape, train_labels.shape, test_images.shape, test_labels.shape"
      ],
      "metadata": {
        "colab": {
          "base_uri": "https://localhost:8080/"
        },
        "id": "pyiqf5_NLj-f",
        "outputId": "1b0b867c-d473-4e7c-a9e6-6f2066a39c12"
      },
      "execution_count": null,
      "outputs": [
        {
          "output_type": "execute_result",
          "data": {
            "text/plain": [
              "((50000, 32, 32, 3), (50000, 1), (10000, 32, 32, 3), (10000, 1))"
            ]
          },
          "metadata": {},
          "execution_count": 5
        }
      ]
    },
    {
      "cell_type": "code",
      "execution_count": null,
      "metadata": {
        "id": "rW_uj8sj6ihs"
      },
      "outputs": [],
      "source": [
        "# 라벨 설정\n",
        "class_names = ['airplane', 'automobile', 'bird', 'cat', 'deer',\n",
        "               'dog', 'frog', 'horse', 'ship', 'truck']"
      ]
    },
    {
      "cell_type": "markdown",
      "metadata": {
        "id": "o6kAYzpl7jee"
      },
      "source": [
        "## 전이학습 (transfer learning)"
      ]
    },
    {
      "cell_type": "markdown",
      "source": [
        "### resnet50_ver1"
      ],
      "metadata": {
        "id": "X9DyPg29sye6"
      }
    },
    {
      "cell_type": "code",
      "source": [
        "resnet_v1 = ResNet50(include_top=False, input_shape = (32,32 ,3), weights = 'imagenet')"
      ],
      "metadata": {
        "id": "b1pejW_8L-qf",
        "colab": {
          "base_uri": "https://localhost:8080/"
        },
        "outputId": "08df59d4-ad3e-4258-82d9-d0ea5528dc12"
      },
      "execution_count": null,
      "outputs": [
        {
          "output_type": "stream",
          "name": "stdout",
          "text": [
            "Downloading data from https://storage.googleapis.com/tensorflow/keras-applications/resnet/resnet50_weights_tf_dim_ordering_tf_kernels_notop.h5\n",
            "94765736/94765736 [==============================] - 3s 0us/step\n"
          ]
        }
      ]
    },
    {
      "cell_type": "code",
      "source": [
        "resnet_v1.output_shape"
      ],
      "metadata": {
        "colab": {
          "base_uri": "https://localhost:8080/"
        },
        "id": "RtW5Uf6QQdYn",
        "outputId": "00d691f9-ad35-409a-c160-835f35242a6d"
      },
      "execution_count": null,
      "outputs": [
        {
          "output_type": "execute_result",
          "data": {
            "text/plain": [
              "(None, 1, 1, 2048)"
            ]
          },
          "metadata": {},
          "execution_count": 8
        }
      ]
    },
    {
      "cell_type": "markdown",
      "source": [
        "1) include_top = True, 분류기(완전연결계층) 여부  \n",
        "2) weights = 'imagenet', 사전학습 weight 여부  \n",
        "3) input_shape, Input 사이즈 (32, 32, 3)으로 변경"
      ],
      "metadata": {
        "id": "Q5paKWM3L_cm"
      }
    },
    {
      "cell_type": "code",
      "source": [
        "resnet_v1.trainable = False"
      ],
      "metadata": {
        "id": "1WZ9k7HsL_mN"
      },
      "execution_count": null,
      "outputs": []
    },
    {
      "cell_type": "code",
      "source": [
        "# sparse categorical crossentropy VS categorical crossentropy + one_hot \n",
        "y_train = tf.keras.utils.to_categorical(train_labels, 10)\n",
        "y_test = tf.keras.utils.to_categorical(test_labels, 10)\n",
        "y_train.shape, y_test.shape"
      ],
      "metadata": {
        "colab": {
          "base_uri": "https://localhost:8080/"
        },
        "id": "kagZCQr2Msd0",
        "outputId": "e9dbabb9-cfed-467b-fd33-d033b162640e"
      },
      "execution_count": null,
      "outputs": [
        {
          "output_type": "execute_result",
          "data": {
            "text/plain": [
              "((50000, 10), (10000, 10))"
            ]
          },
          "metadata": {},
          "execution_count": 10
        }
      ]
    },
    {
      "cell_type": "code",
      "source": [
        "y_train[0]"
      ],
      "metadata": {
        "colab": {
          "base_uri": "https://localhost:8080/"
        },
        "id": "-6RCZl_INCbK",
        "outputId": "5bbd3362-eb34-4aa8-a865-281becd5ace3"
      },
      "execution_count": null,
      "outputs": [
        {
          "output_type": "execute_result",
          "data": {
            "text/plain": [
              "array([0., 0., 0., 0., 0., 0., 1., 0., 0., 0.], dtype=float32)"
            ]
          },
          "metadata": {},
          "execution_count": 11
        }
      ]
    },
    {
      "cell_type": "code",
      "source": [
        "# model.Sequential()없이 모델 구축하는 방법\n",
        "inputs = tf.keras.Input(shape=(32, 32, 3))\n",
        "\n",
        "x = resnet_v1(inputs, training=False)\n",
        "x = tf.keras.layers.Flatten(input_shape=resnet_v1.output_shape[1:])(x)\n",
        "x = tf.keras.layers.Dense(256, activation='relu')(x)\n",
        "x= tf.keras.layers.Dropout(0.5)(x)\n",
        "outputs = tf.keras.layers.Dense(10, activation='softmax')(x)\n",
        "\n",
        "model_v1 = tf.keras.Model(inputs, outputs)"
      ],
      "metadata": {
        "id": "CiECE6Z07jan"
      },
      "execution_count": null,
      "outputs": []
    },
    {
      "cell_type": "code",
      "execution_count": null,
      "metadata": {
        "colab": {
          "base_uri": "https://localhost:8080/"
        },
        "id": "fqJoWdOn7qtd",
        "outputId": "41bcc661-31f2-4033-c571-7bfd6c58cabc"
      },
      "outputs": [
        {
          "output_type": "stream",
          "name": "stdout",
          "text": [
            "391/391 [==============================] - 175s 440ms/step - loss: 1.5902 - accuracy: 0.4653 - val_loss: 1.2311 - val_accuracy: 0.5663\n"
          ]
        },
        {
          "output_type": "execute_result",
          "data": {
            "text/plain": [
              "<keras.callbacks.History at 0x7f0c9386e790>"
            ]
          },
          "metadata": {},
          "execution_count": 13
        }
      ],
      "source": [
        "# categorical_crossentropy\n",
        "model_v1.compile(optimizer = tf.keras.optimizers.Adam(learning_rate= 0.001),\n",
        "                  loss = 'categorical_crossentropy',\n",
        "                  metrics=['accuracy'])\n",
        "\n",
        "# 모델 fitting\n",
        "model_v1.fit(train_images, y_train, epochs = 1, validation_data=(test_images, y_test), batch_size=128)"
      ]
    },
    {
      "cell_type": "code",
      "source": [
        "pred_v1 = model_v1.predict(test_images)"
      ],
      "metadata": {
        "colab": {
          "base_uri": "https://localhost:8080/"
        },
        "id": "mlHbtBKQqXGH",
        "outputId": "6e161d60-c43e-40db-8e61-3df013968c17"
      },
      "execution_count": null,
      "outputs": [
        {
          "output_type": "stream",
          "name": "stdout",
          "text": [
            "313/313 [==============================] - 35s 108ms/step\n"
          ]
        }
      ]
    },
    {
      "cell_type": "code",
      "source": [
        "pred_v1"
      ],
      "metadata": {
        "colab": {
          "base_uri": "https://localhost:8080/"
        },
        "id": "oJyuzEQpquwU",
        "outputId": "6fb77713-b787-44c4-b8b1-ad644e46aa54"
      },
      "execution_count": null,
      "outputs": [
        {
          "output_type": "execute_result",
          "data": {
            "text/plain": [
              "array([[1.07208837e-03, 2.62347725e-03, 3.83071192e-02, ...,\n",
              "        1.14391446e-02, 1.61645783e-03, 9.72185167e-04],\n",
              "       [7.80295432e-02, 4.34799999e-01, 5.13904524e-05, ...,\n",
              "        4.33954046e-05, 3.86061549e-01, 1.00566402e-01],\n",
              "       [2.60466971e-02, 1.84141267e-02, 7.06946375e-05, ...,\n",
              "        1.33079884e-04, 9.12598073e-01, 4.02721465e-02],\n",
              "       ...,\n",
              "       [1.14544215e-04, 8.22945847e-04, 6.14960305e-02, ...,\n",
              "        1.81575101e-02, 1.34818896e-04, 3.96248543e-05],\n",
              "       [5.23066744e-02, 8.86401460e-02, 8.21480006e-02, ...,\n",
              "        2.88659096e-01, 2.59092972e-02, 7.09504932e-02],\n",
              "       [1.80139148e-04, 7.63621865e-05, 1.01072912e-03, ...,\n",
              "        9.61545169e-01, 4.87713442e-06, 1.29761989e-04]], dtype=float32)"
            ]
          },
          "metadata": {},
          "execution_count": 15
        }
      ]
    },
    {
      "cell_type": "markdown",
      "source": [
        "### resnet_v2"
      ],
      "metadata": {
        "id": "t5tGOIyKtdCi"
      }
    },
    {
      "cell_type": "code",
      "source": [
        "resnet_v2 = ResNet50(include_top=False, input_shape = (32,32 ,3), weights = 'imagenet')"
      ],
      "metadata": {
        "id": "C5W2IrVDgzaG"
      },
      "execution_count": null,
      "outputs": []
    },
    {
      "cell_type": "code",
      "source": [
        "resnet_v2.output_shape"
      ],
      "metadata": {
        "colab": {
          "base_uri": "https://localhost:8080/"
        },
        "outputId": "00d38b88-dd9a-4aa9-d612-fa402ad7dfd7",
        "id": "Li1yW95egzaM"
      },
      "execution_count": null,
      "outputs": [
        {
          "output_type": "execute_result",
          "data": {
            "text/plain": [
              "(None, 1, 1, 2048)"
            ]
          },
          "metadata": {},
          "execution_count": 17
        }
      ]
    },
    {
      "cell_type": "markdown",
      "source": [
        "1) include_top = True, 분류기(완전연결계층) 여부  \n",
        "2) weights = 'imagenet', 사전학습 weight 여부  \n",
        "3) input_shape, Input 사이즈 (32, 32, 3)으로 변경"
      ],
      "metadata": {
        "id": "g9t0o7xbgzaN"
      }
    },
    {
      "cell_type": "code",
      "source": [
        "resnet_v2.trainable = False"
      ],
      "metadata": {
        "id": "wbsyyny0gzaN"
      },
      "execution_count": null,
      "outputs": []
    },
    {
      "cell_type": "code",
      "source": [
        "# sparse categorical crossentropy VS categorical crossentropy + one_hot \n",
        "y_train = tf.keras.utils.to_categorical(train_labels, 10)\n",
        "y_test = tf.keras.utils.to_categorical(test_labels, 10)\n",
        "y_train.shape, y_test.shape"
      ],
      "metadata": {
        "colab": {
          "base_uri": "https://localhost:8080/"
        },
        "outputId": "6e26edb8-eeb7-4bf4-d70e-1dea5ab2c7d9",
        "id": "grSnH-G8gzaN"
      },
      "execution_count": null,
      "outputs": [
        {
          "output_type": "execute_result",
          "data": {
            "text/plain": [
              "((50000, 10), (10000, 10))"
            ]
          },
          "metadata": {},
          "execution_count": 19
        }
      ]
    },
    {
      "cell_type": "code",
      "source": [
        "y_train[0]"
      ],
      "metadata": {
        "colab": {
          "base_uri": "https://localhost:8080/"
        },
        "outputId": "f2bef924-774d-480d-ef29-5da58f649bcc",
        "id": "m7JorwyMgzaN"
      },
      "execution_count": null,
      "outputs": [
        {
          "output_type": "execute_result",
          "data": {
            "text/plain": [
              "array([0., 0., 0., 0., 0., 0., 1., 0., 0., 0.], dtype=float32)"
            ]
          },
          "metadata": {},
          "execution_count": 20
        }
      ]
    },
    {
      "cell_type": "code",
      "source": [
        "# model.Sequential()없이 모델 구축하는 방법\n",
        "inputs = tf.keras.Input(shape=(32, 32, 3))\n",
        "\n",
        "x = resnet_v1(inputs, training=False)\n",
        "x = tf.keras.layers.Flatten(input_shape=resnet_v2.output_shape[1:])(x)\n",
        "x = tf.keras.layers.Dense(1024, activation='relu')(x)\n",
        "x= tf.keras.layers.Dropout(0.5)(x)\n",
        "outputs = tf.keras.layers.Dense(10, activation='softmax')(x)\n",
        "\n",
        "model_v2 = tf.keras.Model(inputs, outputs)"
      ],
      "metadata": {
        "id": "U--NEtxGgzaN"
      },
      "execution_count": null,
      "outputs": []
    },
    {
      "cell_type": "code",
      "execution_count": null,
      "metadata": {
        "colab": {
          "base_uri": "https://localhost:8080/"
        },
        "outputId": "f837b02d-edbf-48e0-ce50-b891ab022892",
        "id": "zskvV0kpgzaN"
      },
      "outputs": [
        {
          "output_type": "stream",
          "name": "stdout",
          "text": [
            "391/391 [==============================] - 191s 480ms/step - loss: 1.5271 - accuracy: 0.5009 - val_loss: 1.1589 - val_accuracy: 0.5942\n"
          ]
        },
        {
          "output_type": "execute_result",
          "data": {
            "text/plain": [
              "<keras.callbacks.History at 0x7f0c9313e350>"
            ]
          },
          "metadata": {},
          "execution_count": 22
        }
      ],
      "source": [
        "# categorical_crossentropy\n",
        "model_v2.compile(optimizer = tf.keras.optimizers.Adam(learning_rate= 0.001),\n",
        "                  loss = 'categorical_crossentropy',\n",
        "                  metrics=['accuracy'])\n",
        "\n",
        "# 모델 fitting\n",
        "model_v2.fit(train_images, y_train, epochs = 1, validation_data=(test_images, y_test), batch_size=128)"
      ]
    },
    {
      "cell_type": "code",
      "source": [
        "pred_v2 = model_v2.predict(test_images)"
      ],
      "metadata": {
        "colab": {
          "base_uri": "https://localhost:8080/"
        },
        "outputId": "80979b1f-9f38-46f7-a950-822ae1a5166c",
        "id": "lPUwNGIAgzaO"
      },
      "execution_count": null,
      "outputs": [
        {
          "output_type": "stream",
          "name": "stdout",
          "text": [
            "313/313 [==============================] - 37s 116ms/step\n"
          ]
        }
      ]
    },
    {
      "cell_type": "code",
      "source": [
        "pred_v2"
      ],
      "metadata": {
        "colab": {
          "base_uri": "https://localhost:8080/"
        },
        "outputId": "de56b3cb-316c-44c3-9197-e0eb941cc326",
        "id": "YmVFx0L8gzaO"
      },
      "execution_count": null,
      "outputs": [
        {
          "output_type": "execute_result",
          "data": {
            "text/plain": [
              "array([[9.2175566e-03, 2.3053359e-02, 6.9628678e-02, ..., 1.3646538e-02,\n",
              "        9.4250552e-03, 3.3973830e-03],\n",
              "       [2.8464772e-02, 6.6411746e-01, 3.1961667e-05, ..., 1.8805087e-05,\n",
              "        2.7734149e-01, 2.9771727e-02],\n",
              "       [1.9429367e-02, 5.2799736e-03, 1.0584139e-04, ..., 3.6090397e-04,\n",
              "        9.2794478e-01, 4.6099767e-02],\n",
              "       ...,\n",
              "       [9.8564495e-05, 1.0036316e-03, 5.8076769e-02, ..., 2.5826663e-02,\n",
              "        1.2673408e-04, 9.4720459e-04],\n",
              "       [9.0584040e-02, 1.0179939e-01, 1.8107086e-01, ..., 1.4410292e-01,\n",
              "        4.4423774e-02, 3.8907010e-02],\n",
              "       [1.5860028e-04, 8.7390901e-05, 5.4661916e-03, ..., 8.7391907e-01,\n",
              "        1.8264975e-05, 6.8890811e-05]], dtype=float32)"
            ]
          },
          "metadata": {},
          "execution_count": 24
        }
      ]
    },
    {
      "cell_type": "markdown",
      "source": [
        "### 앙상블"
      ],
      "metadata": {
        "id": "y9R_kNOphP3w"
      }
    },
    {
      "cell_type": "code",
      "source": [
        "import numpy as np\n",
        "from sklearn.metrics import accuracy_score"
      ],
      "metadata": {
        "id": "NMT3Dg-Liw8l"
      },
      "execution_count": null,
      "outputs": []
    },
    {
      "cell_type": "code",
      "source": [
        "pred_ensemble = np.mean([pred_v1, pred_v2], axis=0)\n",
        "pred_ensemble"
      ],
      "metadata": {
        "colab": {
          "base_uri": "https://localhost:8080/"
        },
        "id": "wi_mNHfFhVHO",
        "outputId": "b436e64b-17bd-4517-de49-7238fcc41401"
      },
      "execution_count": null,
      "outputs": [
        {
          "output_type": "execute_result",
          "data": {
            "text/plain": [
              "array([[5.14482241e-03, 1.28384186e-02, 5.39679006e-02, ...,\n",
              "        1.25428420e-02, 5.52075636e-03, 2.18478404e-03],\n",
              "       [5.32471575e-02, 5.49458742e-01, 4.16760595e-05, ...,\n",
              "        3.11002441e-05, 3.31701517e-01, 6.51690662e-02],\n",
              "       [2.27380320e-02, 1.18470499e-02, 8.82680179e-05, ...,\n",
              "        2.46991927e-04, 9.20271397e-01, 4.31859568e-02],\n",
              "       ...,\n",
              "       [1.06554355e-04, 9.13288735e-04, 5.97864017e-02, ...,\n",
              "        2.19920874e-02, 1.30776491e-04, 4.93414700e-04],\n",
              "       [7.14453608e-02, 9.52197686e-02, 1.31609440e-01, ...,\n",
              "        2.16381013e-01, 3.51665355e-02, 5.49287498e-02],\n",
              "       [1.69369712e-04, 8.18765402e-05, 3.23846028e-03, ...,\n",
              "        9.17732120e-01, 1.15710545e-05, 9.93263966e-05]], dtype=float32)"
            ]
          },
          "metadata": {},
          "execution_count": 47
        }
      ]
    },
    {
      "cell_type": "code",
      "source": [
        "pred_ensemble = np.argmax(pred_ensemble, axis=1)"
      ],
      "metadata": {
        "id": "UXj8xY2HkRoQ"
      },
      "execution_count": null,
      "outputs": []
    },
    {
      "cell_type": "code",
      "source": [
        "y_test = np.argmax(y_test, axis=1)"
      ],
      "metadata": {
        "id": "zZWgUBTqnYxw"
      },
      "execution_count": null,
      "outputs": []
    },
    {
      "cell_type": "code",
      "source": [
        "y_test.shape, pred_ensemble.shape"
      ],
      "metadata": {
        "id": "Tu886Jmii1j4",
        "outputId": "ebfc6c80-68bc-446a-82b4-f651cab26fb3",
        "colab": {
          "base_uri": "https://localhost:8080/"
        }
      },
      "execution_count": null,
      "outputs": [
        {
          "output_type": "execute_result",
          "data": {
            "text/plain": [
              "((10000,), (10000,))"
            ]
          },
          "metadata": {},
          "execution_count": 50
        }
      ]
    },
    {
      "cell_type": "code",
      "source": [
        "accuracy_score(pred_ensemble, y_test)"
      ],
      "metadata": {
        "id": "cKE9METVieg4",
        "outputId": "27f715f1-c044-4c44-fcaf-b6a36bcd3835",
        "colab": {
          "base_uri": "https://localhost:8080/"
        }
      },
      "execution_count": null,
      "outputs": [
        {
          "output_type": "execute_result",
          "data": {
            "text/plain": [
              "0.5997"
            ]
          },
          "metadata": {},
          "execution_count": 52
        }
      ]
    },
    {
      "cell_type": "code",
      "source": [
        "# 단일 모델과 비교\n",
        "accuracy_score(np.argmax(pred_v1, axis=1), y_test)"
      ],
      "metadata": {
        "id": "yeUI34J-n4vk",
        "outputId": "1684bc56-071a-49a2-e84e-e86d22e45794",
        "colab": {
          "base_uri": "https://localhost:8080/"
        }
      },
      "execution_count": null,
      "outputs": [
        {
          "output_type": "execute_result",
          "data": {
            "text/plain": [
              "0.5663"
            ]
          },
          "metadata": {},
          "execution_count": 53
        }
      ]
    },
    {
      "cell_type": "code",
      "source": [
        "accuracy_score(np.argmax(pred_v2, axis=1), y_test)"
      ],
      "metadata": {
        "id": "YKiibsXan-Fp",
        "outputId": "1bffa83a-3b41-4b57-d7a0-b36ba4ea6837",
        "colab": {
          "base_uri": "https://localhost:8080/"
        }
      },
      "execution_count": null,
      "outputs": [
        {
          "output_type": "execute_result",
          "data": {
            "text/plain": [
              "0.5942"
            ]
          },
          "metadata": {},
          "execution_count": 54
        }
      ]
    },
    {
      "cell_type": "code",
      "source": [],
      "metadata": {
        "id": "gjb2eJjYrCwA"
      },
      "execution_count": null,
      "outputs": []
    }
  ]
}